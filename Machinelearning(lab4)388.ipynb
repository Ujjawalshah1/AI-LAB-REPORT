{
  "nbformat": 4,
  "nbformat_minor": 0,
  "metadata": {
    "colab": {
      "provenance": [],
      "authorship_tag": "ABX9TyOBntq2WAuH/UeshAvdMCqD",
      "include_colab_link": true
    },
    "kernelspec": {
      "name": "python3",
      "display_name": "Python 3"
    },
    "language_info": {
      "name": "python"
    }
  },
  "cells": [
    {
      "cell_type": "markdown",
      "metadata": {
        "id": "view-in-github",
        "colab_type": "text"
      },
      "source": [
        "<a href=\"https://colab.research.google.com/github/Ujjawalshah1/AI-LAB-REPORT/blob/main/Machinelearning(lab4)388.ipynb\" target=\"_parent\"><img src=\"https://colab.research.google.com/assets/colab-badge.svg\" alt=\"Open In Colab\"/></a>"
      ]
    },
    {
      "cell_type": "code",
      "execution_count": 1,
      "metadata": {
        "colab": {
          "base_uri": "https://localhost:8080/"
        },
        "id": "I3JHF7IQYpDA",
        "outputId": "e9d467e8-3234-486c-8174-593526cc4f53"
      },
      "outputs": [
        {
          "output_type": "stream",
          "name": "stdout",
          "text": [
            "Trained weights: [0.24048675 0.29579452], Bias: [-0.47644707]\n"
          ]
        }
      ],
      "source": [
        "#AND GATE\n",
        "import numpy as np\n",
        "\n",
        "def perceptron_AND():\n",
        "    inputs = np.array([[0, 0], [0, 1], [1, 0], [1, 1]])\n",
        "    outputs = np.array([0, 0, 0, 1])  # AND Gate\n",
        "    weights = np.random.rand(2)\n",
        "    bias = np.random.rand(1)\n",
        "    lr = 0.1  # Learning rate\n",
        "\n",
        "    for epoch in range(10):\n",
        "        for i, x in enumerate(inputs):\n",
        "            y = np.dot(x, weights) + bias\n",
        "            prediction = 1 if y > 0 else 0\n",
        "            error = outputs[i] - prediction\n",
        "            weights += lr * error * x\n",
        "            bias += lr * error\n",
        "\n",
        "    return weights, bias\n",
        "\n",
        "weights, bias = perceptron_AND()\n",
        "print(f\"Trained weights: {weights}, Bias: {bias}\")"
      ]
    },
    {
      "cell_type": "code",
      "source": [
        "#OR GATE\n",
        "def perceptron_OR():\n",
        "    inputs = np.array([[0, 0], [0, 1], [1, 0], [1, 1]])\n",
        "    outputs = np.array([0, 1, 1, 1])  # OR Gate\n",
        "    weights = np.random.rand(2)\n",
        "    bias = np.random.rand(1)\n",
        "    lr = 0.1\n",
        "\n",
        "    for epoch in range(10):\n",
        "        for i, x in enumerate(inputs):\n",
        "            y = np.dot(x, weights) + bias\n",
        "            prediction = 1 if y > 0 else 0\n",
        "            error = outputs[i] - prediction\n",
        "            weights += lr * error * x\n",
        "            bias += lr * error\n",
        "\n",
        "    return weights, bias\n",
        "\n",
        "weights, bias = perceptron_OR()\n",
        "print(f\"Trained weights: {weights}, Bias: {bias}\")\n",
        "\n",
        ""
      ],
      "metadata": {
        "colab": {
          "base_uri": "https://localhost:8080/"
        },
        "id": "Y8u49TuiYzDx",
        "outputId": "8f64f612-34de-493b-f40c-33c62db05f4c"
      },
      "execution_count": 2,
      "outputs": [
        {
          "output_type": "stream",
          "name": "stdout",
          "text": [
            "Trained weights: [0.14810268 0.45598149], Bias: [-0.03387108]\n"
          ]
        }
      ]
    },
    {
      "cell_type": "code",
      "source": [
        "#XOR GATE\n",
        "from sklearn.neural_network import MLPClassifier\n",
        "\n",
        "def perceptron_XOR():\n",
        "    inputs = np.array([[0, 0], [0, 1], [1, 0], [1, 1]])\n",
        "    outputs = np.array([0, 1, 1, 0])  # XOR Gate\n",
        "    model = MLPClassifier(hidden_layer_sizes=(2,), activation='relu', max_iter=1000)\n",
        "    model.fit(inputs, outputs)\n",
        "    return model\n",
        "\n",
        "model = perceptron_XOR()\n",
        "print(\"Trained XOR perceptron.\")\n"
      ],
      "metadata": {
        "colab": {
          "base_uri": "https://localhost:8080/"
        },
        "id": "X4aMucGnY317",
        "outputId": "ad4fcd67-fe86-4d0a-9573-34a80d6dde7a"
      },
      "execution_count": 3,
      "outputs": [
        {
          "output_type": "stream",
          "name": "stdout",
          "text": [
            "Trained XOR perceptron.\n"
          ]
        }
      ]
    },
    {
      "cell_type": "code",
      "source": [
        "#NOT GATE\n",
        "def perceptron_NOT():\n",
        "    inputs = np.array([0, 1])\n",
        "    outputs = np.array([1, 0])  # NOT Gate\n",
        "    weights = np.random.rand(1)\n",
        "    bias = np.random.rand(1)\n",
        "    lr = 0.1\n",
        "\n",
        "    for epoch in range(10):\n",
        "        for i, x in enumerate(inputs):\n",
        "            y = x * weights + bias\n",
        "            prediction = 1 if y > 0 else 0\n",
        "            error = outputs[i] - prediction\n",
        "            weights += lr * error * x\n",
        "            bias += lr * error\n",
        "\n",
        "    return weights, bias\n",
        "\n",
        "weights, bias = perceptron_NOT()\n",
        "print(f\"Trained weights: {weights}, Bias: {bias}\")\n"
      ],
      "metadata": {
        "colab": {
          "base_uri": "https://localhost:8080/"
        },
        "id": "yox_D5c3Y8rq",
        "outputId": "70648a4b-ac1b-4396-eec2-7a65a6a20ac8"
      },
      "execution_count": 4,
      "outputs": [
        {
          "output_type": "stream",
          "name": "stdout",
          "text": [
            "Trained weights: [-0.02308551], Bias: [0.0042366]\n"
          ]
        }
      ]
    },
    {
      "cell_type": "code",
      "source": [
        "#K Nearest Neighbors\n",
        "from sklearn.neighbors import KNeighborsClassifier\n",
        "\n",
        "def kNN():\n",
        "    # Example dataset\n",
        "    inputs = [[1, 1], [1, 2], [2, 2], [2, 3], [3, 3]]\n",
        "    outputs = [0, 0, 1, 1, 1]  # Labels\n",
        "    model = KNeighborsClassifier(n_neighbors=3)\n",
        "    model.fit(inputs, outputs)\n",
        "    return model\n",
        "\n",
        "model = kNN()\n",
        "print(\"Trained kNN model.\")"
      ],
      "metadata": {
        "colab": {
          "base_uri": "https://localhost:8080/"
        },
        "id": "W1oa2dIYZBI6",
        "outputId": "83dacce2-7f22-41e6-f2b3-c57825b4cc3d"
      },
      "execution_count": 5,
      "outputs": [
        {
          "output_type": "stream",
          "name": "stdout",
          "text": [
            "Trained kNN model.\n"
          ]
        }
      ]
    },
    {
      "cell_type": "code",
      "source": [
        "#Support vector system\n",
        "from sklearn.svm import SVC\n",
        "\n",
        "def SVM():\n",
        "    inputs = [[1, 1], [1, 2], [2, 2], [2, 3], [3, 3]]\n",
        "    outputs = [0, 0, 1, 1, 1]\n",
        "    model = SVC(kernel='linear')\n",
        "    model.fit(inputs, outputs)\n",
        "    return model\n",
        "\n",
        "model = SVM()\n",
        "print(\"Trained SVM model.\")\n"
      ],
      "metadata": {
        "colab": {
          "base_uri": "https://localhost:8080/"
        },
        "id": "HTpYvvAPZFj6",
        "outputId": "97231943-a3a7-4951-b420-6d021921f9ec"
      },
      "execution_count": 6,
      "outputs": [
        {
          "output_type": "stream",
          "name": "stdout",
          "text": [
            "Trained SVM model.\n"
          ]
        }
      ]
    },
    {
      "cell_type": "code",
      "source": [
        "#K Means Clustering\n",
        "from sklearn.cluster import KMeans\n",
        "\n",
        "def kMeans():\n",
        "    inputs = [[1, 1], [1, 2], [2, 2], [2, 3], [3, 3], [10, 10], [10, 11]]\n",
        "    model = KMeans(n_clusters=2, random_state=0)\n",
        "    model.fit(inputs)\n",
        "    return model\n",
        "\n",
        "model = kMeans()\n",
        "print(\"Trained k-Means clustering model.\")\n"
      ],
      "metadata": {
        "colab": {
          "base_uri": "https://localhost:8080/"
        },
        "id": "AKdoxztdZJsh",
        "outputId": "4d3d6390-c609-406e-87b8-cc37c290e45a"
      },
      "execution_count": 7,
      "outputs": [
        {
          "output_type": "stream",
          "name": "stdout",
          "text": [
            "Trained k-Means clustering model.\n"
          ]
        }
      ]
    },
    {
      "cell_type": "code",
      "source": [
        "#Perception for odd and even numbers\n",
        "def perceptron_odd_even():\n",
        "    inputs = np.array([[0], [1], [2], [3], [4]])\n",
        "    outputs = np.array([0, 1, 0, 1, 0])  # Even: 0, Odd: 1\n",
        "    weights = np.random.rand(1)\n",
        "    bias = np.random.rand(1)\n",
        "    lr = 0.1\n",
        "\n",
        "    for epoch in range(20):\n",
        "        for i, x in enumerate(inputs):\n",
        "            y = x * weights + bias\n",
        "            prediction = 1 if y > 0.5 else 0\n",
        "            error = outputs[i] - prediction\n",
        "            weights += lr * error * x\n",
        "            bias += lr * error\n",
        "\n",
        "    return weights, bias\n",
        "\n",
        "weights, bias = perceptron_odd_even()\n",
        "print(f\"Trained weights: {weights}, Bias: {bias}\")\n"
      ],
      "metadata": {
        "colab": {
          "base_uri": "https://localhost:8080/"
        },
        "id": "a1w9axc0ZQHg",
        "outputId": "30e25edc-d5e0-4c74-fcd1-f5fa715cb54a"
      },
      "execution_count": 8,
      "outputs": [
        {
          "output_type": "stream",
          "name": "stdout",
          "text": [
            "Trained weights: [-0.30720424], Bias: [0.53471379]\n"
          ]
        }
      ]
    },
    {
      "cell_type": "code",
      "source": [
        "#BAM\n",
        "def BAM(ids, numbers):\n",
        "    memory = {}\n",
        "    for i, id_ in enumerate(ids):\n",
        "        memory[id_] = numbers[i]\n",
        "    return memory\n",
        "\n",
        "ids = ['A', 'B', 'C']\n",
        "numbers = ['123', '456', '789']\n",
        "memory = BAM(ids, numbers)\n",
        "print(memory)\n"
      ],
      "metadata": {
        "colab": {
          "base_uri": "https://localhost:8080/"
        },
        "id": "Lsz6eX5nZUK6",
        "outputId": "e4286d69-5814-44d8-c1cb-f3ee5c61a693"
      },
      "execution_count": 9,
      "outputs": [
        {
          "output_type": "stream",
          "name": "stdout",
          "text": [
            "{'A': '123', 'B': '456', 'C': '789'}\n"
          ]
        }
      ]
    },
    {
      "cell_type": "code",
      "source": [
        "#HopField Network\n",
        "import numpy as np\n",
        "\n",
        "def Hopfield():\n",
        "    patterns = np.array([[-1, 1, -1], [1, -1, 1]])  # Example patterns\n",
        "    num_neurons = patterns.shape[1]\n",
        "\n",
        "    # Compute weight matrix\n",
        "    weights = np.zeros((num_neurons, num_neurons))\n",
        "    for pattern in patterns:\n",
        "        weights += np.outer(pattern, pattern)\n",
        "    np.fill_diagonal(weights, 0)  # No self-connections\n",
        "\n",
        "    def recall(input_pattern):\n",
        "        input_pattern = np.array(input_pattern)\n",
        "        output = input_pattern.copy()\n",
        "        for _ in range(10):  # Iterate for convergence\n",
        "            output = np.sign(np.dot(weights, output))\n",
        "        return output\n",
        "\n",
        "    return weights, recall\n",
        "\n",
        "weights, recall = Hopfield()\n",
        "test_pattern = [-1, 1, -1]\n",
        "recalled_pattern = recall(test_pattern)\n",
        "\n",
        "print(\"Weights matrix:\")\n",
        "print(weights)\n",
        "print(\"Input pattern:\", test_pattern)\n",
        "print(\"Recalled pattern:\", recalled_pattern)\n"
      ],
      "metadata": {
        "id": "7RTOJz_FZYao",
        "outputId": "32a72a56-e87e-4227-f0dd-f9ffae3033ac",
        "colab": {
          "base_uri": "https://localhost:8080/"
        }
      },
      "execution_count": 10,
      "outputs": [
        {
          "output_type": "stream",
          "name": "stdout",
          "text": [
            "Weights matrix:\n",
            "[[ 0. -2.  2.]\n",
            " [-2.  0. -2.]\n",
            " [ 2. -2.  0.]]\n",
            "Input pattern: [-1, 1, -1]\n",
            "Recalled pattern: [-1.  1. -1.]\n"
          ]
        }
      ]
    }
  ]
}