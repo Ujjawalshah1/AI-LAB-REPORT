{
  "nbformat": 4,
  "nbformat_minor": 0,
  "metadata": {
    "colab": {
      "provenance": [],
      "authorship_tag": "ABX9TyMmsNLAxivzeJs8rM3Rcu0E",
      "include_colab_link": true
    },
    "kernelspec": {
      "name": "python3",
      "display_name": "Python 3"
    },
    "language_info": {
      "name": "python"
    }
  },
  "cells": [
    {
      "cell_type": "markdown",
      "metadata": {
        "id": "view-in-github",
        "colab_type": "text"
      },
      "source": [
        "<a href=\"https://colab.research.google.com/github/Ujjawalshah1/AI-LAB-REPORT/blob/main/Labexam_pratice_questions.ipynb\" target=\"_parent\"><img src=\"https://colab.research.google.com/assets/colab-badge.svg\" alt=\"Open In Colab\"/></a>"
      ]
    },
    {
      "cell_type": "code",
      "execution_count": 1,
      "metadata": {
        "colab": {
          "base_uri": "https://localhost:8080/"
        },
        "id": "xn4dVpvyX5-r",
        "outputId": "b74114b3-a7d5-4f72-9c51-bb16474fdc82"
      },
      "outputs": [
        {
          "output_type": "stream",
          "name": "stdout",
          "text": [
            "Initial State: Room A: dirty, Room B: clean, Current Room: A\n",
            "Cleaning Room A...\n",
            "Final State: Room A: clean, Room B: clean, Current Room: B\n"
          ]
        }
      ],
      "source": [
        "#Question no 6\n",
        "def vacuum_agent(room_a, room_b, current_room):\n",
        "    print(f\"Initial State: Room A: {room_a}, Room B: {room_b}, Current Room: {current_room}\")\n",
        "\n",
        "    if current_room == 'A':\n",
        "        if room_a == 'dirty':\n",
        "            print(\"Cleaning Room A...\")\n",
        "            room_a = 'clean'\n",
        "        current_room = 'B'\n",
        "    elif current_room == 'B':\n",
        "        if room_b == 'dirty':\n",
        "            print(\"Cleaning Room B...\")\n",
        "            room_b = 'clean'\n",
        "        current_room = 'A'\n",
        "\n",
        "    print(f\"Final State: Room A: {room_a}, Room B: {room_b}, Current Room: {current_room}\")\n",
        "\n",
        "# Example usage\n",
        "vacuum_agent('dirty', 'clean', 'A')\n"
      ]
    },
    {
      "cell_type": "code",
      "source": [
        "#Question no 7\n",
        "def heuristic_block(arrangement, goal):\n",
        "    misplaced = 0\n",
        "    for i, block in enumerate(arrangement):\n",
        "        if block != goal[i]:\n",
        "            misplaced += 1\n",
        "    return misplaced\n",
        "\n",
        "# Example\n",
        "arrangement = ['B', 'C', 'A', 'D']\n",
        "goal = ['A', 'B', 'C', 'D']\n",
        "print(\"Misplaced Blocks:\", heuristic_block(arrangement, goal))"
      ],
      "metadata": {
        "colab": {
          "base_uri": "https://localhost:8080/"
        },
        "id": "hzrmAi5DYI6W",
        "outputId": "07939009-0bf4-441a-c166-b3a232014950"
      },
      "execution_count": 4,
      "outputs": [
        {
          "output_type": "stream",
          "name": "stdout",
          "text": [
            "Misplaced Blocks: 3\n"
          ]
        }
      ]
    },
    {
      "cell_type": "code",
      "source": [
        "#Question no 8\n",
        "import numpy as np\n",
        "\n",
        "def perceptron_train(X, y, epochs=10, lr=0.1):\n",
        "    weights = np.random.rand(X.shape[1])\n",
        "    bias = np.random.rand(1)\n",
        "\n",
        "    for _ in range(epochs):\n",
        "        for i in range(len(X)):\n",
        "            y_pred = np.dot(X[i], weights) + bias\n",
        "            error = y[i] - (1 if y_pred > 0 else 0)\n",
        "            weights += lr * error * X[i]\n",
        "            bias += lr * error\n",
        "    return weights, bias\n",
        "\n",
        "# Example\n",
        "X = np.array([[0, 0], [0, 1], [1, 0], [1, 1]])\n",
        "y = np.array([0, 0, 0, 1])  # AND Gate\n",
        "weights, bias = perceptron_train(X, y)\n",
        "print(f\"Weights: {weights}, Bias: {bias}\")"
      ],
      "metadata": {
        "colab": {
          "base_uri": "https://localhost:8080/"
        },
        "id": "bsVhKhT8YOZi",
        "outputId": "ce5572b5-377d-4706-e814-ac4d4d0f6254"
      },
      "execution_count": 3,
      "outputs": [
        {
          "output_type": "stream",
          "name": "stdout",
          "text": [
            "Weights: [0.33448167 0.15210938], Bias: [-0.41641218]\n"
          ]
        }
      ]
    },
    {
      "cell_type": "code",
      "source": [
        "#Question no9\n",
        "def linear_regression(X, y, lr=0.01, epochs=1000):\n",
        "    n = len(X)\n",
        "    m, b = 0, 0  # Initialize slope and intercept\n",
        "\n",
        "    for _ in range(epochs):\n",
        "        y_pred = m * X + b\n",
        "        dm = (-2/n) * sum(X * (y - y_pred))\n",
        "        db = (-2/n) * sum(y - y_pred)\n",
        "        m -= lr * dm\n",
        "        b -= lr * db\n",
        "    return m, b\n",
        "\n",
        "# Example\n",
        "X = np.array([1, 2, 3, 4])\n",
        "y = np.array([2, 4, 6, 8])\n",
        "m, b = linear_regression(X, y)\n",
        "print(f\"Slope: {m}, Intercept: {b}\")"
      ],
      "metadata": {
        "colab": {
          "base_uri": "https://localhost:8080/"
        },
        "id": "TYzZ9NjyYXAS",
        "outputId": "58a69358-0201-4f19-bd4c-610e42b8bdd7"
      },
      "execution_count": 5,
      "outputs": [
        {
          "output_type": "stream",
          "name": "stdout",
          "text": [
            "Slope: 1.9896587550255742, Intercept: 0.030404521305361965\n"
          ]
        }
      ]
    },
    {
      "cell_type": "code",
      "source": [
        "#Question no 10\n",
        "def heuristic_8_puzzle(state, goal):\n",
        "    cost = 0\n",
        "    for i in range(3):\n",
        "        for j in range(3):\n",
        "            if state[i][j] != goal[i][j] and state[i][j] != 0:\n",
        "                cost += 1\n",
        "    return cost\n",
        "\n",
        "# Example\n",
        "state = [[1, 2, 3], [4, 0, 5], [7, 8, 6]]\n",
        "goal = [[1, 2, 3], [4, 5, 6], [7, 8, 0]]\n",
        "print(\"Misplaced Tiles:\", heuristic_8_puzzle(state, goal))"
      ],
      "metadata": {
        "colab": {
          "base_uri": "https://localhost:8080/"
        },
        "id": "mZFExVc3Yc96",
        "outputId": "38dde35e-587c-4f40-efbe-c948cfad5bc1"
      },
      "execution_count": 6,
      "outputs": [
        {
          "output_type": "stream",
          "name": "stdout",
          "text": [
            "Misplaced Tiles: 2\n"
          ]
        }
      ]
    }
  ]
}